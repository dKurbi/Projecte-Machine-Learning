{
 "cells": [
  {
   "cell_type": "code",
   "execution_count": 1,
   "id": "6a833e1d-f850-4771-8ebb-033eb4db7c25",
   "metadata": {},
   "outputs": [
    {
     "name": "stdout",
     "output_type": "stream",
     "text": [
      "hello world\n"
     ]
    }
   ],
   "source": [
    "print(\"hello world\")"
   ]
  },
  {
   "cell_type": "markdown",
   "id": "58c0ca65-e218-490e-8e8f-aa5785fa6250",
   "metadata": {},
   "source": [
    "## esto es un titulo"
   ]
  },
  {
   "cell_type": "markdown",
   "id": "f9405559-a0d2-4bf5-a635-45e37fd25453",
   "metadata": {},
   "source": [
    "# esto es un titulo mas Grande"
   ]
  },
  {
   "cell_type": "markdown",
   "id": "bcb7fab7-eab3-47fd-9edc-ceb00acdef6f",
   "metadata": {},
   "source": [
    "### este es un titulo mas chico"
   ]
  },
  {
   "cell_type": "code",
   "execution_count": null,
   "id": "f75795b3-628c-49a5-ae27-59f6b1f134e8",
   "metadata": {},
   "outputs": [],
   "source": []
  }
 ],
 "metadata": {
  "kernelspec": {
   "display_name": "Python 3 (ipykernel)",
   "language": "python",
   "name": "python3"
  },
  "language_info": {
   "codemirror_mode": {
    "name": "ipython",
    "version": 3
   },
   "file_extension": ".py",
   "mimetype": "text/x-python",
   "name": "python",
   "nbconvert_exporter": "python",
   "pygments_lexer": "ipython3",
   "version": "3.12.5"
  }
 },
 "nbformat": 4,
 "nbformat_minor": 5
}
